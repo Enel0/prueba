{
 "cells": [
  {
   "cell_type": "markdown",
   "id": "973979b3-9467-434c-99e7-43cb54e202ed",
   "metadata": {},
   "source": [
    "## Final_Test"
   ]
  },
  {
   "cell_type": "markdown",
   "id": "92c122e1-4020-480c-b2c9-835af3ac7082",
   "metadata": {},
   "source": [
    "Introduction\n",
    "This is my final test, where you will see what I have learned throughout this course. It covers various topics, including data science languages, libraries, tools, and basic Python operations. I will also demonstrate how to work with Jupyter notebooks and showcase some of the practical skills I have gained.\n"
   ]
  },
  {
   "cell_type": "markdown",
   "id": "ed340ebe-cc92-477d-828c-5ddd6e42a499",
   "metadata": {},
   "source": [
    "Programming Languages in Data Science\n",
    "- Python\n",
    "- Julia\n",
    "- SQL\n",
    "- R\n",
    "- Java\n"
   ]
  },
  {
   "cell_type": "markdown",
   "id": "d321c44d-c092-4a2e-ac9d-78378011b468",
   "metadata": {},
   "source": [
    "Data Science Libraries\n",
    "- Pandas\n",
    "- Keras\n",
    "- Scikit-learn\n",
    "- Matplotlib\n",
    "- Seaborn\n",
    "- TensorFlow\n",
    "- NumPy\n"
   ]
  },
  {
   "cell_type": "markdown",
   "id": "c29b1f08-0650-411a-8656-0d38eda13cf3",
   "metadata": {},
   "source": [
    " Tools for Data Science\n",
    "\n",
    "| Tool             | Category           | Description                                  |\n",
    "| :--------------- | :----------------- | :------------------------------------------  |\n",
    "| Jupyter Notebook | Development        | Interactive development environment.         |\n",
    "| Pandas           | Data Manipulation  | Data analysis and manipulation library.      |\n",
    "| Matplotlib       | Visualization      | Plotting and visualization library.          |\n",
    "| Scikit-learn     | Machine Learning   | Machine learning library.                    |\n",
    "| TensorFlow       | Deep Learning      | Framework for deep learning applications.    |\n",
    "| SQL              | Database           | Database management and query language.      |\n"
   ]
  },
  {
   "cell_type": "markdown",
   "id": "b08ec57c-6242-4bea-8ce8-7e89778b94e7",
   "metadata": {},
   "source": [
    "# Multiply and Add\n",
    "a = 5\n",
    "b = 3\n",
    "multiplication = a * b\n",
    "addition = a + b\n",
    "print(\"Multiplication:\", multiplication)\n",
    "print(\"Addition:\", addition)\n"
   ]
  },
  {
   "cell_type": "code",
   "execution_count": null,
   "id": "2ce51f90-99f0-4792-8dc8-574b23f04e90",
   "metadata": {},
   "outputs": [],
   "source": [
    "# Convert minutes to hours\n",
    "minutes = 150\n",
    "hours = minutes / 60\n",
    "print(f\"{minutes} minutes is equal to {hours} hours\")\n"
   ]
  },
  {
   "cell_type": "code",
   "execution_count": null,
   "id": "a16b8d78-3ce0-40be-8a23-49a8ea05afe1",
   "metadata": {},
   "outputs": [],
   "source": [
    "# List objectives\n",
    "objectives = [\"Learn Python\", \"Understand data science libraries\", \"Work with Jupyter notebooks\"]\n",
    "print(\"Objectives:\")\n",
    "for obj in objectives:\n",
    "    print(obj)\n"
   ]
  },
  {
   "cell_type": "markdown",
   "id": "4a85c25b-aaa9-4093-b6e8-1efb168d27b1",
   "metadata": {},
   "source": [
    "## Author\n",
    "Matías Negrete."
   ]
  }
 ],
 "metadata": {
  "kernelspec": {
   "display_name": "Python [conda env:base] *",
   "language": "python",
   "name": "conda-base-py"
  },
  "language_info": {
   "codemirror_mode": {
    "name": "ipython",
    "version": 3
   },
   "file_extension": ".py",
   "mimetype": "text/x-python",
   "name": "python",
   "nbconvert_exporter": "python",
   "pygments_lexer": "ipython3",
   "version": "3.12.7"
  }
 },
 "nbformat": 4,
 "nbformat_minor": 5
}
